{
 "cells": [
  {
   "cell_type": "code",
   "execution_count": null,
   "metadata": {},
   "outputs": [],
   "source": []
  },
  {
   "cell_type": "code",
   "execution_count": 2,
   "metadata": {},
   "outputs": [
    {
     "name": "stdout",
     "output_type": "stream",
     "text": [
      "Asteoride se acerca a la Tierra demasiado rápido\n"
     ]
    }
   ],
   "source": [
    "velocidad_asteroide = 49\n",
    "advertencia = 25\n",
    "if velocidad_asteroide >= advertencia:\n",
    "    print (\"Asteoride se acerca a la Tierra demasiado rápido\")\n",
    "else:\n",
    "    print (\"Sin peligro\")\n",
    "    "
   ]
  },
  {
   "cell_type": "code",
   "execution_count": 3,
   "metadata": {},
   "outputs": [
    {
     "name": "stdout",
     "output_type": "stream",
     "text": [
      "Sin peligro\n"
     ]
    }
   ],
   "source": [
    "velocidad_asteroide = 19\n",
    "advertencia = 20\n",
    "if velocidad_asteroide >= advertencia:\n",
    "    print (\"Buscar rayo de luz en el cielo\")\n",
    "elif velocidad_asteroide == advertencia:\n",
    "    print (\"Buscar rayo de luz en el cielo\")\n",
    "else:\n",
    "    print (\"Sin peligro\")\n",
    "    "
   ]
  },
  {
   "cell_type": "code",
   "execution_count": 8,
   "metadata": {},
   "outputs": [
    {
     "name": "stdout",
     "output_type": "stream",
     "text": [
      "Sin peligro, se quema al entrar a la atmosfera\n"
     ]
    }
   ],
   "source": [
    "tamaño_asteroide = 40\n",
    "if tamaño_asteroide < 25:\n",
    "    print (\"Sin peligro, se quema al entrar a la atmosfera\")\n",
    "elif tamaño_asteroide > 25 and tamaño_asteroide < 1000:\n",
    "    print (\"Peligro, asteroide causará daño\")\n",
    "else:\n",
    "    print (\"Sin peligro\")\n",
    "\n"
   ]
  },
  {
   "cell_type": "code",
   "execution_count": 12,
   "metadata": {},
   "outputs": [
    {
     "name": "stdout",
     "output_type": "stream",
     "text": [
      "Peligro, un asteroide muy granxde y rápido se acerca a la tierrra\n"
     ]
    }
   ],
   "source": [
    "velocidad_asteroide =25\n",
    "tamaño_asteroide = 40\n",
    "if tamaño_asteroide > 25 and velocidad_asteroide > 20:\n",
    "    print (\"Peligro, un asteroide muy granxde y rápido se acerca a la tierrra\")\n",
    "elif velocidad_asteroide >= 20:\n",
    "    print (\"Buscar rayo de luz en el cielo\")\n",
    "elif tamaño_asteroide < 25:\n",
    "    print (\"Sin peligro, se quema al entrar a la atmosfera\")\n",
    "else:\n",
    "    print (\"Peligro, asteroide grande causará daño\")\n"
   ]
  }
 ],
 "metadata": {
  "interpreter": {
   "hash": "aee8b7b246df8f9039afb4144a1f6fd8d2ca17a180786b69acc140d282b71a49"
  },
  "kernelspec": {
   "display_name": "Python 3.10.2 64-bit",
   "language": "python",
   "name": "python3"
  },
  "language_info": {
   "codemirror_mode": {
    "name": "ipython",
    "version": 3
   },
   "file_extension": ".py",
   "mimetype": "text/x-python",
   "name": "python",
   "nbconvert_exporter": "python",
   "pygments_lexer": "ipython3",
   "version": "3.10.2"
  },
  "orig_nbformat": 4
 },
 "nbformat": 4,
 "nbformat_minor": 2
}
